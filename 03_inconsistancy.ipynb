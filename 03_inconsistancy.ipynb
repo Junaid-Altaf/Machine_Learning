{
 "cells": [
  {
   "cell_type": "code",
   "execution_count": null,
   "id": "44056798",
   "metadata": {},
   "outputs": [
    {
     "name": "stdout",
     "output_type": "stream",
     "text": [
      "this is just for testing purposes only this is the very interesting practise \n"
     ]
    }
   ],
   "source": [
    "print(\"this is just for testing purposes only this is the very interesting practise amazing  \")"
   ]
  },
  {
   "cell_type": "code",
   "execution_count": 3,
   "id": "5d9bc573",
   "metadata": {},
   "outputs": [
    {
     "name": "stdout",
     "output_type": "stream",
     "text": [
      "pakistan is the beautiful country in the world\n"
     ]
    }
   ],
   "source": [
    "print(\"pakistan is the beautiful country in the world\")"
   ]
  },
  {
   "cell_type": "code",
   "execution_count": 4,
   "id": "32f4ee5d",
   "metadata": {},
   "outputs": [
    {
     "name": "stdout",
     "output_type": "stream",
     "text": [
      "wahoo amazing tool that are very really helpful for the developers\n"
     ]
    }
   ],
   "source": [
    "print(\"wahoo amazing tool that are very really helpful for the developers\")"
   ]
  }
 ],
 "metadata": {
  "kernelspec": {
   "display_name": "base",
   "language": "python",
   "name": "python3"
  },
  "language_info": {
   "codemirror_mode": {
    "name": "ipython",
    "version": 3
   },
   "file_extension": ".py",
   "mimetype": "text/x-python",
   "name": "python",
   "nbconvert_exporter": "python",
   "pygments_lexer": "ipython3",
   "version": "3.11.7"
  }
 },
 "nbformat": 4,
 "nbformat_minor": 5
}
